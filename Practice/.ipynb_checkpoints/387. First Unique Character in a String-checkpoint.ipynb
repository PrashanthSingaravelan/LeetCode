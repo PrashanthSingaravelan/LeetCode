{
 "cells": [
  {
   "cell_type": "code",
   "execution_count": 1,
   "id": "48b7965a",
   "metadata": {},
   "outputs": [],
   "source": [
    "class Solution:\n",
    "    def firstUniqChar(self, s: str) -> int:\n",
    "        result = {characters : [] for characters in s} \n",
    "        for index, characters in enumerate(s):\n",
    "            result[characters].append(index)\n",
    "        print(result)\n",
    "\n",
    "        for key, values in result.items():\n",
    "            if (len(values) == 1):   ## 1st non-repeating character\n",
    "                return result[key][0]   ## input -> value and output -> index\n",
    "\n",
    "        else: ## No non-repeating character characters\n",
    "            return -1"
   ]
  },
  {
   "cell_type": "code",
   "execution_count": 2,
   "id": "cdca2219",
   "metadata": {},
   "outputs": [
    {
     "name": "stdout",
     "output_type": "stream",
     "text": [
      "{'l': [0], 'e': [1, 2, 7], 't': [3], 'c': [4], 'o': [5], 'd': [6]}\n",
      "Index of first non-repeating character :  0\n"
     ]
    }
   ],
   "source": [
    "str1 = 'leetcode'\n",
    "obj1 = Solution()\n",
    "print(\"Index of first non-repeating character : \",obj1.firstUniqChar(str1))"
   ]
  },
  {
   "cell_type": "code",
   "execution_count": 3,
   "id": "63c2910b",
   "metadata": {},
   "outputs": [
    {
     "name": "stdout",
     "output_type": "stream",
     "text": [
      "{'l': [0, 4], 'o': [1, 9], 'v': [2], 'e': [3, 5, 6, 11], 't': [7], 'c': [8], 'd': [10]}\n",
      "Index of first non-repeating character :  2\n"
     ]
    }
   ],
   "source": [
    "str1 = 'loveleetcode'\n",
    "obj1 = Solution()\n",
    "print(\"Index of first non-repeating character : \",obj1.firstUniqChar(str1))"
   ]
  },
  {
   "cell_type": "code",
   "execution_count": 4,
   "id": "f69fcc3f",
   "metadata": {},
   "outputs": [
    {
     "name": "stdout",
     "output_type": "stream",
     "text": [
      "{'a': [0, 1], 'b': [2, 3]}\n",
      "Index of first non-repeating character :  -1\n"
     ]
    }
   ],
   "source": [
    "str1 = 'aabb'\n",
    "obj1 = Solution()\n",
    "print(\"Index of first non-repeating character : \",obj1.firstUniqChar(str1))"
   ]
  }
 ],
 "metadata": {
  "kernelspec": {
   "display_name": "Python 3 (ipykernel)",
   "language": "python",
   "name": "python3"
  },
  "language_info": {
   "codemirror_mode": {
    "name": "ipython",
    "version": 3
   },
   "file_extension": ".py",
   "mimetype": "text/x-python",
   "name": "python",
   "nbconvert_exporter": "python",
   "pygments_lexer": "ipython3",
   "version": "3.9.7"
  }
 },
 "nbformat": 4,
 "nbformat_minor": 5
}
