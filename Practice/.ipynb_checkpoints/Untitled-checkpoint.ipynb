{
 "cells": [
  {
   "cell_type": "code",
   "execution_count": null,
   "id": "b6fbfd8b",
   "metadata": {},
   "outputs": [],
   "source": [
    "class Solution:\n",
    "    def maximumWealth(self, accounts: List[List[int]]) -> int:"
   ]
  },
  {
   "cell_type": "code",
   "execution_count": 54,
   "id": "c1c1a879",
   "metadata": {},
   "outputs": [],
   "source": [
    "list1 = [[1,5],[7,3],[3,5]]"
   ]
  },
  {
   "cell_type": "code",
   "execution_count": 55,
   "id": "b6ddf518",
   "metadata": {},
   "outputs": [
    {
     "data": {
      "text/plain": [
       "10"
      ]
     },
     "execution_count": 55,
     "metadata": {},
     "output_type": "execute_result"
    }
   ],
   "source": [
    "max_list = []\n",
    "for i in list1:\n",
    "    max_list.append(sum(i))\n",
    "max(max_list)"
   ]
  },
  {
   "cell_type": "code",
   "execution_count": 56,
   "id": "03387849",
   "metadata": {},
   "outputs": [],
   "source": [
    "from collections import Counter"
   ]
  },
  {
   "cell_type": "code",
   "execution_count": 65,
   "id": "53176c05",
   "metadata": {},
   "outputs": [
    {
     "ename": "AttributeError",
     "evalue": "'dict' object has no attribute 'sort'",
     "output_type": "error",
     "traceback": [
      "\u001b[0;31m---------------------------------------------------------------------------\u001b[0m",
      "\u001b[0;31mAttributeError\u001b[0m                            Traceback (most recent call last)",
      "Input \u001b[0;32mIn [65]\u001b[0m, in \u001b[0;36m<cell line: 2>\u001b[0;34m()\u001b[0m\n\u001b[1;32m      1\u001b[0m max_occur \u001b[38;5;241m=\u001b[39m \u001b[38;5;28mdict\u001b[39m(Counter(max_list))\n\u001b[0;32m----> 2\u001b[0m max_occur \u001b[38;5;241m=\u001b[39m \u001b[43mmax_occur\u001b[49m\u001b[38;5;241;43m.\u001b[39;49m\u001b[43msort\u001b[49m()\n",
      "\u001b[0;31mAttributeError\u001b[0m: 'dict' object has no attribute 'sort'"
     ]
    }
   ],
   "source": [
    "max_occur = dict(Counter(max_list))\n",
    "max_occur = max_occur.sort()\n"
   ]
  },
  {
   "cell_type": "code",
   "execution_count": 70,
   "id": "794afb13",
   "metadata": {},
   "outputs": [
    {
     "data": {
      "text/plain": [
       "[6]"
      ]
     },
     "execution_count": 70,
     "metadata": {},
     "output_type": "execute_result"
    }
   ],
   "source": [
    "maximum_key    = int(next(iter(max_occur)))\n",
    "maximum_value = int(max_occur[maximum_key])\n",
    "\n",
    "ans = [maximum_key] * maximum_value\n",
    "ans"
   ]
  },
  {
   "cell_type": "code",
   "execution_count": 73,
   "id": "c7fa3ee0",
   "metadata": {},
   "outputs": [
    {
     "data": {
      "text/plain": [
       "[6, 10]"
      ]
     },
     "execution_count": 73,
     "metadata": {},
     "output_type": "execute_result"
    }
   ],
   "source": [
    "max_list = []\n",
    "sum1 = 0\n",
    "for i in list1:\n",
    "    row_sum = sum(i)\n",
    "    if (row_sum > sum1):\n",
    "        sum1 = row_sum\n",
    "        max_list.append(sum1)\n",
    "max_list"
   ]
  },
  {
   "cell_type": "code",
   "execution_count": 78,
   "id": "ede54425",
   "metadata": {},
   "outputs": [],
   "source": [
    "accounts = [[1,2,3],[3,2,1]]"
   ]
  },
  {
   "cell_type": "code",
   "execution_count": 79,
   "id": "d54bff57",
   "metadata": {},
   "outputs": [
    {
     "name": "stdout",
     "output_type": "stream",
     "text": [
      "6\n"
     ]
    }
   ],
   "source": [
    "max_list = []\n",
    "for i in accounts:\n",
    "    max_list.append(sum(i))\n",
    "print(max(max_list))"
   ]
  },
  {
   "cell_type": "code",
   "execution_count": 80,
   "id": "af0998cd",
   "metadata": {},
   "outputs": [],
   "source": [
    "list1 = [1,2,3,4,4,3,2,1]\n",
    "n = 4"
   ]
  },
  {
   "cell_type": "code",
   "execution_count": 99,
   "id": "28faf526",
   "metadata": {},
   "outputs": [],
   "source": [
    "first_half = list1[:n]\n",
    "second_half = list1[n:]"
   ]
  },
  {
   "cell_type": "code",
   "execution_count": 102,
   "id": "4c6d59a5",
   "metadata": {},
   "outputs": [
    {
     "data": {
      "text/plain": [
       "[1, 4, 2, 3, 3, 2, 4, 1]"
      ]
     },
     "execution_count": 102,
     "metadata": {},
     "output_type": "execute_result"
    }
   ],
   "source": [
    "ans = []\n",
    "for i,j in zip(first_half, second_half):\n",
    "    ans.append(i)\n",
    "    ans.append(j)\n",
    "ans"
   ]
  },
  {
   "cell_type": "code",
   "execution_count": 11,
   "id": "c8b512a9",
   "metadata": {},
   "outputs": [],
   "source": [
    "nums = [1,2,3]\n",
    "ans = []"
   ]
  },
  {
   "cell_type": "code",
   "execution_count": 12,
   "id": "4d260541",
   "metadata": {},
   "outputs": [
    {
     "name": "stdout",
     "output_type": "stream",
     "text": [
      "[]\n"
     ]
    }
   ],
   "source": [
    "for i in range(len(nums)):\n",
    "    for j in range(i, len(nums)):\n",
    "        if (nums[i] == nums[j]) and (i<j):\n",
    "            ans.append((i,j))\n",
    "return (len(ans))"
   ]
  },
  {
   "cell_type": "code",
   "execution_count": 13,
   "id": "07c62d82",
   "metadata": {},
   "outputs": [
    {
     "data": {
      "text/plain": [
       "0"
      ]
     },
     "execution_count": 13,
     "metadata": {},
     "output_type": "execute_result"
    }
   ],
   "source": []
  },
  {
   "cell_type": "code",
   "execution_count": 18,
   "id": "0073ff76",
   "metadata": {},
   "outputs": [],
   "source": [
    "sentences = [\"alice and bob love leetcode\", \"i think so too\", \"this is great thanks very much\"]"
   ]
  },
  {
   "cell_type": "code",
   "execution_count": 16,
   "id": "a31e7b4c",
   "metadata": {},
   "outputs": [],
   "source": [
    "sentences = [\"please wait\", \"continue to fight\", \"continue to win\"]"
   ]
  },
  {
   "cell_type": "code",
   "execution_count": 19,
   "id": "2fa65df8",
   "metadata": {},
   "outputs": [
    {
     "name": "stdout",
     "output_type": "stream",
     "text": [
      "[5, 4, 6]\n"
     ]
    }
   ],
   "source": [
    "word_count = []\n",
    "for i in range(len(sentences)):\n",
    "    word_count.append(len(sentences[i].split(' ')))\n",
    "print(word_count)"
   ]
  },
  {
   "cell_type": "code",
   "execution_count": 6,
   "id": "08442d1d",
   "metadata": {},
   "outputs": [
    {
     "data": {
      "text/plain": [
       "5"
      ]
     },
     "execution_count": 6,
     "metadata": {},
     "output_type": "execute_result"
    }
   ],
   "source": [
    "len(sentences[0].split(' '))"
   ]
  },
  {
   "cell_type": "code",
   "execution_count": 20,
   "id": "c71b2a7f",
   "metadata": {},
   "outputs": [],
   "source": [
    "candies = [4,2,1,1,2]\n",
    "extraCandies = 1"
   ]
  },
  {
   "cell_type": "code",
   "execution_count": 77,
   "id": "67da7207",
   "metadata": {},
   "outputs": [],
   "source": [
    "candies = [2,3,5,1,3]\n",
    "extraCandies = 3"
   ]
  },
  {
   "cell_type": "code",
   "execution_count": 78,
   "id": "417c8d5e",
   "metadata": {},
   "outputs": [],
   "source": [
    "ans = []\n",
    "for index in range(len(candies)):\n",
    "    element = candies[index] + extraCandies\n",
    "    if element >= max(candies): ans.append('true')\n",
    "    else:ans.append(\"false\")"
   ]
  },
  {
   "cell_type": "code",
   "execution_count": 79,
   "id": "94cced53",
   "metadata": {},
   "outputs": [
    {
     "data": {
      "text/plain": [
       "['true', 'true', 'true', 'false', 'true']"
      ]
     },
     "execution_count": 79,
     "metadata": {},
     "output_type": "execute_result"
    }
   ],
   "source": [
    "ans"
   ]
  },
  {
   "cell_type": "code",
   "execution_count": 32,
   "id": "2c4781ba",
   "metadata": {},
   "outputs": [
    {
     "ename": "NameError",
     "evalue": "name 'true' is not defined",
     "output_type": "error",
     "traceback": [
      "\u001b[0;31m---------------------------------------------------------------------------\u001b[0m",
      "\u001b[0;31mNameError\u001b[0m                                 Traceback (most recent call last)",
      "Cell \u001b[0;32mIn [32], line 1\u001b[0m\n\u001b[0;32m----> 1\u001b[0m output \u001b[38;5;241m=\u001b[39m [\u001b[43mtrue\u001b[49m,false,true]\n",
      "\u001b[0;31mNameError\u001b[0m: name 'true' is not defined"
     ]
    }
   ],
   "source": [
    "output = [true,false,true]"
   ]
  },
  {
   "cell_type": "code",
   "execution_count": 49,
   "id": "a9e86221",
   "metadata": {},
   "outputs": [],
   "source": [
    "candies = [2,3,5,1,3]"
   ]
  },
  {
   "cell_type": "code",
   "execution_count": 52,
   "id": "0e3ea587",
   "metadata": {},
   "outputs": [
    {
     "data": {
      "text/plain": [
       "2"
      ]
     },
     "execution_count": 52,
     "metadata": {},
     "output_type": "execute_result"
    }
   ],
   "source": [
    "candies.pop(0)"
   ]
  },
  {
   "cell_type": "code",
   "execution_count": 54,
   "id": "0c9d8152",
   "metadata": {},
   "outputs": [
    {
     "data": {
      "text/plain": [
       "[3, 5, 1, 3]"
      ]
     },
     "execution_count": 54,
     "metadata": {},
     "output_type": "execute_result"
    }
   ],
   "source": [
    "candies"
   ]
  },
  {
   "cell_type": "code",
   "execution_count": 83,
   "id": "268621ca",
   "metadata": {},
   "outputs": [],
   "source": [
    "nums = [8,1,2,2,3]"
   ]
  },
  {
   "cell_type": "code",
   "execution_count": 85,
   "id": "97bb3ea1",
   "metadata": {},
   "outputs": [
    {
     "name": "stdout",
     "output_type": "stream",
     "text": [
      "[4, 0, 1, 1, 3]\n"
     ]
    }
   ],
   "source": [
    "ans = []\n",
    "for i in range(len(nums)):\n",
    "    element = nums[i]\n",
    "    cnt = 0\n",
    "    for j in range(len(nums)):\n",
    "        if (element > nums[j]):\n",
    "            cnt+=1\n",
    "    ans.append(cnt)\n",
    "print(ans)"
   ]
  },
  {
   "cell_type": "code",
   "execution_count": null,
   "id": "6efd04fc",
   "metadata": {},
   "outputs": [],
   "source": []
  },
  {
   "cell_type": "code",
   "execution_count": 1,
   "id": "a8f8b6fc",
   "metadata": {},
   "outputs": [],
   "source": [
    "def get_content(url):\n",
    "        ar = requests.get(url)\n",
    "        article = BeautifulSoup(ar.text,\"lxml\")\n",
    "        title = article.find(\"h1\").get_text()\n",
    "        try:\n",
    "            time = article.find(\"span\", class_=\"update-data\").text\n",
    "            time = re.sub(\"Updated:|IST|AM|PM\", \"\", time, flags=re.IGNORECASE).strip()\n",
    "        #   time = datetime.strptime(time, \"%B %d, %Y %H:%M\")\n",
    "        except:\n",
    "            time = None\n",
    "        if (article.find('div',{\"class\":\"description\"}) == None) or time==None:\n",
    "            return None, None, None\n",
    "        else:\n",
    "            content = \"\"\n",
    "            for para in article.find(class_ = \"description\").find_all(\"p\")[:-3]:\n",
    "                content+=para.get_text()\n",
    "            return title,content,time"
   ]
  },
  {
   "cell_type": "code",
   "execution_count": 69,
   "id": "f394f820",
   "metadata": {},
   "outputs": [],
   "source": [
    "s = \"codeleet\"\n",
    "indices = [4,5,6,7,0,2,1,3]\n",
    "ans = [0]*8"
   ]
  },
  {
   "cell_type": "code",
   "execution_count": 92,
   "id": "fed1dff0",
   "metadata": {},
   "outputs": [
    {
     "data": {
      "text/plain": [
       "[0, 0, 0, 0, 0, 0, 0, 0]"
      ]
     },
     "execution_count": 92,
     "metadata": {},
     "output_type": "execute_result"
    }
   ],
   "source": [
    "cnt = 0\n",
    "ans = [0]*len(indices)\n",
    "ans"
   ]
  },
  {
   "cell_type": "code",
   "execution_count": 85,
   "id": "cc32e373",
   "metadata": {},
   "outputs": [
    {
     "name": "stdout",
     "output_type": "stream",
     "text": [
      "index  value\n",
      "4        c\n",
      "5        o\n",
      "6        d\n",
      "7        e\n",
      "0        l\n",
      "2        e\n",
      "1        e\n",
      "3        t\n"
     ]
    },
    {
     "data": {
      "text/plain": [
       "['l', 'e', 'e', 't', 'c', 'o', 'd', 'e']"
      ]
     },
     "execution_count": 85,
     "metadata": {},
     "output_type": "execute_result"
    }
   ],
   "source": [
    "\n",
    "print(\"index  value\")\n",
    "for i,j in zip(indices, range(0, len(indices))):\n",
    "    ans[i] = s[j]\n",
    "    print(i, \"      \", s[j])\n",
    "ans"
   ]
  },
  {
   "cell_type": "code",
   "execution_count": 86,
   "id": "ea49f82e",
   "metadata": {},
   "outputs": [
    {
     "name": "stdout",
     "output_type": "stream",
     "text": [
      "index  value\n",
      "[]\n",
      "4        c\n",
      "['c']\n",
      "5        o\n",
      "['c', 'o']\n",
      "6        d\n",
      "['c', 'o', 'd']\n",
      "7        e\n",
      "['c', 'o', 'd', 'e']\n",
      "0        l\n",
      "['l', 'c', 'o', 'd', 'e']\n",
      "2        e\n",
      "['l', 'c', 'e', 'o', 'd', 'e']\n",
      "1        e\n",
      "['l', 'e', 'c', 'e', 'o', 'd', 'e']\n",
      "3        t\n"
     ]
    },
    {
     "data": {
      "text/plain": [
       "['l', 'e', 'c', 't', 'e', 'o', 'd', 'e']"
      ]
     },
     "execution_count": 86,
     "metadata": {},
     "output_type": "execute_result"
    }
   ],
   "source": [
    "cnt = 0\n",
    "ans = []\n",
    "print(\"index  value\")\n",
    "for i,j in zip(indices, range(len(indices))):\n",
    "    print(ans)\n",
    "    ans.insert(i, s[j])\n",
    "    print(i, \"      \", s[j])\n",
    "ans"
   ]
  },
  {
   "cell_type": "code",
   "execution_count": 90,
   "id": "bbcf23c4",
   "metadata": {},
   "outputs": [
    {
     "data": {
      "text/plain": [
       "[4, 5, 6, 7, 0, 2, 1, 3]"
      ]
     },
     "execution_count": 90,
     "metadata": {},
     "output_type": "execute_result"
    }
   ],
   "source": [
    "indices"
   ]
  },
  {
   "cell_type": "code",
   "execution_count": 89,
   "id": "f54b5630",
   "metadata": {},
   "outputs": [
    {
     "name": "stdout",
     "output_type": "stream",
     "text": [
      "4 0\n",
      "5 1\n",
      "6 2\n",
      "7 3\n",
      "0 4\n",
      "2 5\n",
      "1 6\n",
      "3 7\n"
     ]
    }
   ],
   "source": []
  },
  {
   "cell_type": "code",
   "execution_count": 29,
   "id": "f2da76a4",
   "metadata": {},
   "outputs": [
    {
     "data": {
      "text/plain": [
       "'leetcdoe'"
      ]
     },
     "execution_count": 29,
     "metadata": {},
     "output_type": "execute_result"
    }
   ],
   "source": [
    "\"\".join(ans)"
   ]
  },
  {
   "cell_type": "code",
   "execution_count": 11,
   "id": "ae434619",
   "metadata": {},
   "outputs": [
    {
     "data": {
      "text/plain": [
       "['l']"
      ]
     },
     "execution_count": 11,
     "metadata": {},
     "output_type": "execute_result"
    }
   ],
   "source": [
    "ans.insert()"
   ]
  },
  {
   "cell_type": "code",
   "execution_count": 2,
   "id": "1e197c3b",
   "metadata": {},
   "outputs": [],
   "source": [
    "nums = [0,1,4,6,7,10] \n",
    "diff = 3"
   ]
  },
  {
   "cell_type": "code",
   "execution_count": 7,
   "id": "2da8a659",
   "metadata": {},
   "outputs": [
    {
     "name": "stdout",
     "output_type": "stream",
     "text": [
      "i = 0, j = 1, k = 2\n",
      "i = 0, j = 1, k = 3\n",
      "i = 0, j = 1, k = 4\n",
      "i = 0, j = 1, k = 5\n",
      "i = 0, j = 2, k = 3\n",
      "i = 0, j = 2, k = 4\n",
      "i = 0, j = 2, k = 5\n",
      "i = 0, j = 3, k = 4\n",
      "i = 0, j = 3, k = 5\n",
      "i = 0, j = 4, k = 5\n",
      "\n",
      "```````````````````````SPACE```````````````````\n",
      "i = 1, j = 2, k = 3\n",
      "i = 1, j = 2, k = 4\n",
      "i = 1, j = 2, k = 5\n",
      "i = 1, j = 3, k = 4\n",
      "i = 1, j = 3, k = 5\n",
      "i = 1, j = 4, k = 5\n",
      "\n",
      "```````````````````````SPACE```````````````````\n",
      "i = 2, j = 3, k = 4\n",
      "i = 2, j = 3, k = 5\n",
      "i = 2, j = 4, k = 5\n",
      "\n",
      "```````````````````````SPACE```````````````````\n",
      "i = 3, j = 4, k = 5\n",
      "\n",
      "```````````````````````SPACE```````````````````\n",
      "\n",
      "```````````````````````SPACE```````````````````\n",
      "\n",
      "```````````````````````SPACE```````````````````\n"
     ]
    }
   ],
   "source": [
    "ans = []\n",
    "for i in range(len(nums)):\n",
    "    for j in range(i+1, len(nums)):\n",
    "        for k in range(j+1,len(nums)):\n",
    "            print(\"i = {}, j = {}, k = {}\".format(i,j,k))   \n",
    "    print()\n",
    "    print('```````````````````````SPACE```````````````````')"
   ]
  },
  {
   "cell_type": "code",
   "execution_count": 8,
   "id": "5e1718fa",
   "metadata": {},
   "outputs": [
    {
     "name": "stdout",
     "output_type": "stream",
     "text": [
      "i = 0, j = 1, k = 2\n",
      "i = 0, j = 1, k = 3\n",
      "i = 0, j = 1, k = 4\n",
      "i = 0, j = 1, k = 5\n",
      "i = 0, j = 2, k = 3\n",
      "i = 0, j = 2, k = 4\n",
      "i = 0, j = 2, k = 5\n",
      "i = 0, j = 3, k = 4\n",
      "i = 0, j = 3, k = 5\n",
      "i = 0, j = 4, k = 5\n",
      "\n",
      "```````````````````````SPACE```````````````````\n",
      "i = 1, j = 2, k = 3\n",
      "i = 1, j = 2, k = 4\n",
      "i = 1, j = 2, k = 5\n",
      "i = 1, j = 3, k = 4\n",
      "i = 1, j = 3, k = 5\n",
      "i = 1, j = 4, k = 5\n",
      "\n",
      "```````````````````````SPACE```````````````````\n",
      "i = 2, j = 3, k = 4\n",
      "i = 2, j = 3, k = 5\n",
      "i = 2, j = 4, k = 5\n",
      "\n",
      "```````````````````````SPACE```````````````````\n",
      "i = 3, j = 4, k = 5\n",
      "\n",
      "```````````````````````SPACE```````````````````\n"
     ]
    }
   ],
   "source": [
    "ans = []\n",
    "for i in range(len(nums)-2):\n",
    "    for j in range(i+1, len(nums)-1):\n",
    "        for k in range(j+1,len(nums)):\n",
    "            print(\"i = {}, j = {}, k = {}\".format(i,j,k))   \n",
    "    print()\n",
    "    print('```````````````````````SPACE```````````````````')"
   ]
  },
  {
   "cell_type": "code",
   "execution_count": 42,
   "id": "d32375f9",
   "metadata": {},
   "outputs": [
    {
     "data": {
      "text/plain": [
       "[(1, 2, 4), (2, 4, 5)]"
      ]
     },
     "execution_count": 42,
     "metadata": {},
     "output_type": "execute_result"
    }
   ],
   "source": [
    "ans"
   ]
  },
  {
   "cell_type": "code",
   "execution_count": 19,
   "id": "330459af",
   "metadata": {},
   "outputs": [],
   "source": [
    "s = \"codeleet\"\n",
    "indices = [4,5,6,7,0,2,1,3]"
   ]
  },
  {
   "cell_type": "code",
   "execution_count": 28,
   "id": "dacd9aa8",
   "metadata": {},
   "outputs": [
    {
     "name": "stdout",
     "output_type": "stream",
     "text": [
      "4\n",
      "4\n",
      "\n",
      "5\n",
      "6\n",
      "\n",
      "6\n",
      "5\n",
      "\n",
      "7\n",
      "7\n",
      "\n",
      "0\n",
      "0\n",
      "\n",
      "2\n",
      "1\n",
      "\n",
      "1\n",
      "2\n",
      "\n",
      "3\n",
      "3\n",
      "\n"
     ]
    }
   ],
   "source": [
    "for i in range(len(indices)):\n",
    "    print(indices[i])\n",
    "    print(indices.index(i))\n",
    "    \n",
    "    print()"
   ]
  },
  {
   "cell_type": "code",
   "execution_count": 93,
   "id": "25eec846",
   "metadata": {},
   "outputs": [],
   "source": [
    "str1 = 'Prashanth'"
   ]
  },
  {
   "cell_type": "code",
   "execution_count": 94,
   "id": "3a51d533",
   "metadata": {},
   "outputs": [
    {
     "ename": "TypeError",
     "evalue": "'str' object does not support item assignment",
     "output_type": "error",
     "traceback": [
      "\u001b[0;31m---------------------------------------------------------------------------\u001b[0m",
      "\u001b[0;31mTypeError\u001b[0m                                 Traceback (most recent call last)",
      "Cell \u001b[0;32mIn [94], line 1\u001b[0m\n\u001b[0;32m----> 1\u001b[0m \u001b[43mstr1\u001b[49m\u001b[43m[\u001b[49m\u001b[38;5;241;43m0\u001b[39;49m\u001b[43m]\u001b[49m \u001b[38;5;241m=\u001b[39m \u001b[38;5;124m'\u001b[39m\u001b[38;5;124mK\u001b[39m\u001b[38;5;124m'\u001b[39m\n",
      "\u001b[0;31mTypeError\u001b[0m: 'str' object does not support item assignment"
     ]
    }
   ],
   "source": [
    "str1[0] = 'K'"
   ]
  },
  {
   "cell_type": "code",
   "execution_count": 102,
   "id": "487fec5b",
   "metadata": {},
   "outputs": [],
   "source": [
    "list1 = ['Prashanth']"
   ]
  },
  {
   "cell_type": "code",
   "execution_count": 103,
   "id": "54dfa362",
   "metadata": {},
   "outputs": [],
   "source": [
    "list1.insert(0, 'H')"
   ]
  },
  {
   "cell_type": "code",
   "execution_count": 107,
   "id": "15f0afc3",
   "metadata": {},
   "outputs": [
    {
     "data": {
      "text/plain": [
       "4"
      ]
     },
     "execution_count": 107,
     "metadata": {},
     "output_type": "execute_result"
    }
   ],
   "source": []
  },
  {
   "cell_type": "code",
   "execution_count": 122,
   "id": "58787ce5",
   "metadata": {},
   "outputs": [],
   "source": [
    "indices = [4, 5, 6, 7, 0, 2, 1, 3]"
   ]
  },
  {
   "cell_type": "code",
   "execution_count": 131,
   "id": "cd1c9119",
   "metadata": {},
   "outputs": [
    {
     "name": "stdout",
     "output_type": "stream",
     "text": [
      "Where is 0 -->  4th index element\n",
      "Where is 1 -->  6th index element\n",
      "Where is 2 -->  5th index element\n",
      "Where is 3 -->  7th index element\n",
      "Where is 4 -->  0th index element\n",
      "Where is 5 -->  1th index element\n",
      "Where is 6 -->  2th index element\n",
      "Where is 7 -->  3th index element\n"
     ]
    }
   ],
   "source": [
    "## element given -> output index\n",
    "for i in range(len(indices)):\n",
    "    print(\"Where is {} -->  {}th index element\".format(i, indices.index(i)))"
   ]
  },
  {
   "cell_type": "code",
   "execution_count": null,
   "id": "079489f1",
   "metadata": {},
   "outputs": [],
   "source": []
  },
  {
   "cell_type": "code",
   "execution_count": null,
   "id": "f46c598f",
   "metadata": {},
   "outputs": [],
   "source": []
  },
  {
   "cell_type": "code",
   "execution_count": 4,
   "id": "96454396",
   "metadata": {},
   "outputs": [
    {
     "data": {
      "text/plain": [
       "[[9, 9, 8, 1], [5, 6, 2, 6], [8, 2, 6, 4], [6, 2, 2, 2]]"
      ]
     },
     "execution_count": 4,
     "metadata": {},
     "output_type": "execute_result"
    }
   ],
   "source": [
    "grid = [[9,9,8,1],[5,6,2,6],[8,2,6,4],[6,2,2,2]]\n",
    "grid"
   ]
  },
  {
   "cell_type": "code",
   "execution_count": 11,
   "id": "cabfe1c4",
   "metadata": {},
   "outputs": [],
   "source": [
    "n = len(grid)\n",
    "ans = []\n",
    "for ri in range(n-2):\n",
    "    r0, r1, r2 = grid[ri], grid[ri+1], grid[ri+2]\n",
    "    row = []\n",
    "    for ci in range(n-2):\n",
    "        row.append(max(*r0[ci:ci+3], *r1[ci:ci+3], *r2[ci:ci+3]))\n",
    "    ans.append(row)"
   ]
  },
  {
   "cell_type": "code",
   "execution_count": 18,
   "id": "c4f0d952",
   "metadata": {},
   "outputs": [
    {
     "name": "stdout",
     "output_type": "stream",
     "text": [
      "9 9 8 5 6 2 8 2 6\n",
      "5 6 2 8 2 6 6 2 2\n"
     ]
    }
   ],
   "source": [
    "for ri in range(n-2):\n",
    "    r0, r1, r2 = grid[ri], grid[ri+1], grid[ri+2]\n",
    "    \n",
    "    for ci in range(n-2):\n",
    "        print(*r0[ci:ci+3], *r1[ci:ci+3], *r2[ci:ci+3])\n",
    "        break"
   ]
  },
  {
   "cell_type": "code",
   "execution_count": 24,
   "id": "40a160fa",
   "metadata": {},
   "outputs": [
    {
     "data": {
      "text/plain": [
       "[5, 6, 2, 6]"
      ]
     },
     "execution_count": 24,
     "metadata": {},
     "output_type": "execute_result"
    }
   ],
   "source": [
    "r0"
   ]
  },
  {
   "cell_type": "code",
   "execution_count": 46,
   "id": "1c795a31",
   "metadata": {},
   "outputs": [
    {
     "data": {
      "text/plain": [
       "[6, 2, 6]"
      ]
     },
     "execution_count": 46,
     "metadata": {},
     "output_type": "execute_result"
    }
   ],
   "source": [
    "r0[1:1+3]"
   ]
  },
  {
   "cell_type": "code",
   "execution_count": 25,
   "id": "9d50b55f",
   "metadata": {},
   "outputs": [
    {
     "data": {
      "text/plain": [
       "[8, 2, 6, 4]"
      ]
     },
     "execution_count": 25,
     "metadata": {},
     "output_type": "execute_result"
    }
   ],
   "source": [
    "r1"
   ]
  },
  {
   "cell_type": "code",
   "execution_count": 26,
   "id": "b2e42843",
   "metadata": {},
   "outputs": [
    {
     "data": {
      "text/plain": [
       "[6, 2, 2, 2]"
      ]
     },
     "execution_count": 26,
     "metadata": {},
     "output_type": "execute_result"
    }
   ],
   "source": [
    "r2"
   ]
  },
  {
   "cell_type": "code",
   "execution_count": 27,
   "id": "57c7d7f8",
   "metadata": {},
   "outputs": [
    {
     "data": {
      "text/plain": [
       "4"
      ]
     },
     "execution_count": 27,
     "metadata": {},
     "output_type": "execute_result"
    }
   ],
   "source": [
    "len(grid)"
   ]
  },
  {
   "cell_type": "code",
   "execution_count": 29,
   "id": "3f1aca2a",
   "metadata": {},
   "outputs": [
    {
     "name": "stdout",
     "output_type": "stream",
     "text": [
      "0\n",
      "0\n",
      "1\n",
      "1\n"
     ]
    }
   ],
   "source": [
    "for i in range(len(grid)-2):\n",
    "    for j in range(len(grid)-2):\n",
    "        print("
   ]
  },
  {
   "cell_type": "code",
   "execution_count": 45,
   "id": "24c3a501",
   "metadata": {},
   "outputs": [
    {
     "data": {
      "text/plain": [
       "[[5, 6, 2, 6], [8, 2, 6, 4]]"
      ]
     },
     "execution_count": 45,
     "metadata": {},
     "output_type": "execute_result"
    }
   ],
   "source": [
    "i = 0\n",
    "grid[i+1:3]"
   ]
  },
  {
   "cell_type": "code",
   "execution_count": 47,
   "id": "1af36af6",
   "metadata": {},
   "outputs": [],
   "source": [
    "jewels = \"aA\"\n",
    "stones = \"aAAbbbb\""
   ]
  },
  {
   "cell_type": "code",
   "execution_count": 48,
   "id": "90565b04",
   "metadata": {},
   "outputs": [
    {
     "name": "stdout",
     "output_type": "stream",
     "text": [
      "3\n"
     ]
    }
   ],
   "source": [
    "cnt=0\n",
    "for i in stones:\n",
    "    if i in jewels:\n",
    "        cnt+=1\n",
    "print(cnt)"
   ]
  },
  {
   "cell_type": "code",
   "execution_count": 49,
   "id": "56ebe7c5",
   "metadata": {},
   "outputs": [],
   "source": [
    "address = \"255.100.50.0\""
   ]
  },
  {
   "cell_type": "code",
   "execution_count": 51,
   "id": "a7f1d305",
   "metadata": {},
   "outputs": [
    {
     "data": {
      "text/plain": [
       "'255[.]100[.]50[.]0'"
      ]
     },
     "execution_count": 51,
     "metadata": {},
     "output_type": "execute_result"
    }
   ],
   "source": [
    "address.replace(\".\", \"[.]\")"
   ]
  },
  {
   "cell_type": "code",
   "execution_count": 52,
   "id": "b72cf514",
   "metadata": {},
   "outputs": [
    {
     "data": {
      "text/plain": [
       "{'G': 'G', '()': 'o', '(al)': 'al'}"
      ]
     },
     "execution_count": 52,
     "metadata": {},
     "output_type": "execute_result"
    }
   ],
   "source": [
    "dict1 = {'G':'G', '()':'o', '(al)': 'al'}\n",
    "dict1"
   ]
  },
  {
   "cell_type": "code",
   "execution_count": 53,
   "id": "4a68b625",
   "metadata": {},
   "outputs": [
    {
     "data": {
      "text/plain": [
       "'G()(al)'"
      ]
     },
     "execution_count": 53,
     "metadata": {},
     "output_type": "execute_result"
    }
   ],
   "source": [
    "command = \"G()(al)\"\n",
    "command"
   ]
  },
  {
   "cell_type": "code",
   "execution_count": 55,
   "id": "e5d2dc36",
   "metadata": {},
   "outputs": [
    {
     "name": "stdout",
     "output_type": "stream",
     "text": [
      "G\n"
     ]
    },
    {
     "ename": "KeyError",
     "evalue": "'('",
     "output_type": "error",
     "traceback": [
      "\u001b[0;31m---------------------------------------------------------------------------\u001b[0m",
      "\u001b[0;31mKeyError\u001b[0m                                  Traceback (most recent call last)",
      "Cell \u001b[0;32mIn [55], line 2\u001b[0m\n\u001b[1;32m      1\u001b[0m \u001b[38;5;28;01mfor\u001b[39;00m i \u001b[38;5;129;01min\u001b[39;00m command:\n\u001b[0;32m----> 2\u001b[0m     \u001b[38;5;28mprint\u001b[39m(\u001b[43mdict1\u001b[49m\u001b[43m[\u001b[49m\u001b[43mi\u001b[49m\u001b[43m]\u001b[49m)\n",
      "\u001b[0;31mKeyError\u001b[0m: '('"
     ]
    }
   ],
   "source": [
    "for i in command:\n",
    "    print(dict1[i])"
   ]
  },
  {
   "cell_type": "code",
   "execution_count": 26,
   "id": "d6bae1a6",
   "metadata": {},
   "outputs": [],
   "source": [
    "str1 = 'K1:L2'"
   ]
  },
  {
   "cell_type": "code",
   "execution_count": 27,
   "id": "e27cff8b",
   "metadata": {},
   "outputs": [
    {
     "ename": "IndexError",
     "evalue": "string index out of range",
     "output_type": "error",
     "traceback": [
      "\u001b[0;31m---------------------------------------------------------------------------\u001b[0m",
      "\u001b[0;31mIndexError\u001b[0m                                Traceback (most recent call last)",
      "Cell \u001b[0;32mIn [27], line 2\u001b[0m\n\u001b[1;32m      1\u001b[0m str1 \u001b[38;5;241m=\u001b[39m str1\u001b[38;5;241m.\u001b[39msplit(\u001b[38;5;124m'\u001b[39m\u001b[38;5;124m:\u001b[39m\u001b[38;5;124m'\u001b[39m)[\u001b[38;5;241m0\u001b[39m][\u001b[38;5;241m0\u001b[39m]\n\u001b[0;32m----> 2\u001b[0m num1 \u001b[38;5;241m=\u001b[39m \u001b[43mstr1\u001b[49m\u001b[38;5;241;43m.\u001b[39;49m\u001b[43msplit\u001b[49m\u001b[43m(\u001b[49m\u001b[38;5;124;43m'\u001b[39;49m\u001b[38;5;124;43m:\u001b[39;49m\u001b[38;5;124;43m'\u001b[39;49m\u001b[43m)\u001b[49m\u001b[43m[\u001b[49m\u001b[38;5;241;43m0\u001b[39;49m\u001b[43m]\u001b[49m\u001b[43m[\u001b[49m\u001b[38;5;241;43m1\u001b[39;49m\u001b[43m]\u001b[49m\n\u001b[1;32m      4\u001b[0m str2 \u001b[38;5;241m=\u001b[39m str1\u001b[38;5;241m.\u001b[39msplit(\u001b[38;5;124m'\u001b[39m\u001b[38;5;124m:\u001b[39m\u001b[38;5;124m'\u001b[39m)[\u001b[38;5;241m1\u001b[39m][\u001b[38;5;241m0\u001b[39m]\n\u001b[1;32m      5\u001b[0m num2 \u001b[38;5;241m=\u001b[39m str1\u001b[38;5;241m.\u001b[39msplit(\u001b[38;5;124m'\u001b[39m\u001b[38;5;124m:\u001b[39m\u001b[38;5;124m'\u001b[39m)[\u001b[38;5;241m1\u001b[39m][\u001b[38;5;241m1\u001b[39m]\n",
      "\u001b[0;31mIndexError\u001b[0m: string index out of range"
     ]
    }
   ],
   "source": [
    "str1 = str1.split(':')[0][0]\n",
    "num1 = str1.split(':')[0][1]\n",
    "\n",
    "str2 = str1.split(':')[1][0]\n",
    "num2 = str1.split(':')[1][1]"
   ]
  },
  {
   "cell_type": "code",
   "execution_count": 65,
   "id": "1e31d156",
   "metadata": {},
   "outputs": [],
   "source": []
  },
  {
   "cell_type": "code",
   "execution_count": 20,
   "id": "dd3d5534",
   "metadata": {},
   "outputs": [
    {
     "name": "stdout",
     "output_type": "stream",
     "text": [
      "A\n",
      "1\n",
      "F\n",
      "1\n"
     ]
    }
   ],
   "source": [
    "s = 'A1:F1'\n",
    "str1, num1, str2, num2 = s[0], int(s[1]), s[3], int(s[4])\n",
    "\n",
    "print(str1)\n",
    "print(num1)\n",
    "print(str2)\n",
    "print(num2)"
   ]
  },
  {
   "cell_type": "code",
   "execution_count": 21,
   "id": "f0732860",
   "metadata": {},
   "outputs": [],
   "source": [
    "ans = []"
   ]
  },
  {
   "cell_type": "code",
   "execution_count": 22,
   "id": "73c90f30",
   "metadata": {},
   "outputs": [],
   "source": [
    "char_str = ord(str1)\n",
    "cnt      = 0\n",
    "\n",
    "for i in range(ord(str1), ord(str2)+1): ## characters\n",
    "    char_str = chr(ord(str1) + cnt)     ## fixed character with (variable integers)\n",
    "    for j in range(num1, num2+1):       ## integers\n",
    "        ans.append(char_str + str(j))\n",
    "    cnt+=1"
   ]
  },
  {
   "cell_type": "code",
   "execution_count": 25,
   "id": "bbae4027",
   "metadata": {},
   "outputs": [
    {
     "data": {
      "text/plain": [
       "['A1', 'B1', 'C1', 'D1', 'E1', 'F1']"
      ]
     },
     "execution_count": 25,
     "metadata": {},
     "output_type": "execute_result"
    }
   ],
   "source": [
    "ans"
   ]
  },
  {
   "cell_type": "code",
   "execution_count": 47,
   "id": "51d2e0f6",
   "metadata": {},
   "outputs": [],
   "source": [
    "s = 'RLRRLLRLRL'\n",
    "ans   = []\n",
    "list1 = []  ## stack\n",
    "\n",
    "r_count = 0\n",
    "l_count = 0\n",
    "\n",
    "for i in s:\n",
    "    if (i=='R'): \n",
    "        list1.append(i)\n",
    "        r_count+=1\n",
    "        \n",
    "    elif (i=='L'): \n",
    "        list1.append(i)\n",
    "        l_count+=1\n",
    "        \n",
    "    if (r_count == l_count):\n",
    "        ans.append(''.join(list1))\n",
    "        list1 = []\n",
    "return ans"
   ]
  },
  {
   "cell_type": "code",
   "execution_count": 49,
   "id": "37c7140b",
   "metadata": {},
   "outputs": [
    {
     "data": {
      "text/plain": [
       "'RLRRLLRLRL'"
      ]
     },
     "execution_count": 49,
     "metadata": {},
     "output_type": "execute_result"
    }
   ],
   "source": [
    "''.join(ans)"
   ]
  },
  {
   "cell_type": "code",
   "execution_count": 52,
   "id": "aad1dd33",
   "metadata": {},
   "outputs": [
    {
     "data": {
      "text/plain": [
       "104"
      ]
     },
     "execution_count": 52,
     "metadata": {},
     "output_type": "execute_result"
    }
   ],
   "source": [
    "ord('h')"
   ]
  },
  {
   "cell_type": "code",
   "execution_count": 51,
   "id": "87523bd8",
   "metadata": {},
   "outputs": [
    {
     "data": {
      "text/plain": [
       "97"
      ]
     },
     "execution_count": 51,
     "metadata": {},
     "output_type": "execute_result"
    }
   ],
   "source": [
    "ord('a')"
   ]
  },
  {
   "cell_type": "code",
   "execution_count": 96,
   "id": "2d7acdb3",
   "metadata": {},
   "outputs": [],
   "source": [
    "from collections import OrderedDict\n",
    "key     = 'the quick brown fox jumps over the lazy dog'\n",
    "message = 'vkbs bs t suepuv'\n",
    "key_nospace          = key.replace(' ', '')  ## remove the spaces\n",
    "key_nospace_norepeat = \"\".join(OrderedDict.fromkeys(key_nospace)) ## remove duplicates with order"
   ]
  },
  {
   "cell_type": "code",
   "execution_count": 100,
   "id": "59c157b4",
   "metadata": {},
   "outputs": [
    {
     "name": "stdout",
     "output_type": "stream",
     "text": [
      "thequickbrownfxjmpsvlazydg\n",
      "abcdefghijklmnopqrstuvwxyz\n"
     ]
    }
   ],
   "source": [
    "list1 = [chr(i) for i in range(ord('a'), ord('z')+1)]\n",
    "str1 = str(''.join(list1))\n",
    "\n",
    "print(key_nospace_norepeat)\n",
    "print(str1)"
   ]
  },
  {
   "cell_type": "code",
   "execution_count": 114,
   "id": "0189bc2f",
   "metadata": {},
   "outputs": [
    {
     "data": {
      "text/plain": [
       "['t',\n",
       " 'h',\n",
       " 'i',\n",
       " 's',\n",
       " ' ',\n",
       " 'i',\n",
       " 's',\n",
       " ' ',\n",
       " 'a',\n",
       " ' ',\n",
       " 's',\n",
       " 'e',\n",
       " 'c',\n",
       " 'r',\n",
       " 'e',\n",
       " 't']"
      ]
     },
     "execution_count": 114,
     "metadata": {},
     "output_type": "execute_result"
    }
   ],
   "source": [
    "ans = []\n",
    "for i in message:\n",
    "    element = i  ## take v\n",
    "    for j in range(len(key_nospace_norepeat)):   ## Going through the key\n",
    "        if (element == key_nospace_norepeat[j]): ## element in key (replace with that index in str1)\n",
    "            ans.append(str1[j])\n",
    "    if (element==' '):  ## if there is some space, leave that space\n",
    "        ans.append(' ')\n",
    "return ''.join(ans)"
   ]
  },
  {
   "cell_type": "code",
   "execution_count": 113,
   "id": "d48c8da7",
   "metadata": {},
   "outputs": [
    {
     "data": {
      "text/plain": [
       "'this is a secret'"
      ]
     },
     "execution_count": 113,
     "metadata": {},
     "output_type": "execute_result"
    }
   ],
   "source": [
    "''.join(ans)"
   ]
  },
  {
   "cell_type": "code",
   "execution_count": null,
   "id": "f6d20fc9",
   "metadata": {},
   "outputs": [],
   "source": []
  },
  {
   "cell_type": "code",
   "execution_count": 53,
   "id": "b0531802",
   "metadata": {},
   "outputs": [],
   "source": [
    "for i in key_nospace:\n",
    "    if i in str1:\n",
    "        p"
   ]
  },
  {
   "cell_type": "code",
   "execution_count": 76,
   "id": "0b8d1eab",
   "metadata": {},
   "outputs": [
    {
     "data": {
      "text/plain": [
       "'abcdefghijklmnopqrstuvwxyz'"
      ]
     },
     "execution_count": 76,
     "metadata": {},
     "output_type": "execute_result"
    }
   ],
   "source": [
    "\n",
    "str1"
   ]
  },
  {
   "cell_type": "code",
   "execution_count": 77,
   "id": "08d12be9",
   "metadata": {},
   "outputs": [
    {
     "name": "stdout",
     "output_type": "stream",
     "text": [
      "abc efghi klmno qrs uvwxy    \n"
     ]
    }
   ],
   "source": [
    "for i in message:\n",
    "    if i"
   ]
  },
  {
   "cell_type": "code",
   "execution_count": 78,
   "id": "81dd2855",
   "metadata": {},
   "outputs": [
    {
     "name": "stdout",
     "output_type": "stream",
     "text": [
      "abc efghi klmno qrs uvwxy    \n"
     ]
    }
   ],
   "source": [
    "print(str1[:3] + ' ' + str1[4:])"
   ]
  },
  {
   "cell_type": "code",
   "execution_count": 146,
   "id": "c02bc2f1",
   "metadata": {},
   "outputs": [],
   "source": []
  },
  {
   "cell_type": "code",
   "execution_count": 156,
   "id": "e84b9d1b",
   "metadata": {},
   "outputs": [
    {
     "name": "stdout",
     "output_type": "stream",
     "text": [
      "Index   :  2\n",
      "Element :  lGaWqAkfVIFhqBzRs\n",
      "\n",
      "\n",
      "Index   :  1\n",
      "Element :  l\n",
      "\n",
      "\n",
      "Index   :  0\n",
      "Element :  bwKhelcNiyNBpjGUN\n",
      "\n",
      "\n",
      "bwKhelcNiyNBpjGUN lGaWqAkfVIFhqBzRs l\n"
     ]
    }
   ],
   "source": [
    "s = \"lGaWqAkfVIFhqBzRs3 l2 bwKhelcNiyNBpjGUN1\"\n",
    "ans = []\n",
    "\n",
    "for i in s.split():\n",
    "    index   = int(i[-1])-1\n",
    "    element = str(i[:-1])\n",
    "    \n",
    "    print(\"Index   : \",index)\n",
    "    print(\"Element : \",element)\n",
    "    \n",
    "    print(\"\\n\")\n",
    "    \n",
    "    ans.insert(index, str(element))\n",
    "\n",
    "print(' '.join(ans))"
   ]
  },
  {
   "cell_type": "code",
   "execution_count": 166,
   "id": "ec640cb1",
   "metadata": {
    "scrolled": true
   },
   "outputs": [
    {
     "name": "stdout",
     "output_type": "stream",
     "text": [
      "Index   :  2\n",
      "Element :  lGaWqAkfVIFhqBzRs\n",
      "\n",
      "\n",
      "Index   :  1\n",
      "Element :  l\n",
      "\n",
      "\n",
      "Index   :  0\n",
      "Element :  bwKhelcNiyNBpjGUN\n",
      "\n",
      "\n",
      "bwKhelcNiyNBpjGUN l lGaWqAkfVIFhqBzRs\n"
     ]
    }
   ],
   "source": [
    "s = \"lGaWqAkfVIFhqBzRs3 l2 bwKhelcNiyNBpjGUN1\"\n",
    "ans = [None] * len(s.split())\n",
    "\n",
    "for i in s.split():\n",
    "    index   = int(i[-1])-1\n",
    "    element = str(i[:-1])\n",
    "    \n",
    "    print(\"Index   : \",index)\n",
    "    print(\"Element : \",element)\n",
    "    \n",
    "    print(\"\\n\")\n",
    "    \n",
    "    ans[index] = str(element)\n",
    "\n",
    "print(' '.join(ans))"
   ]
  },
  {
   "cell_type": "code",
   "execution_count": null,
   "id": "b689ed61",
   "metadata": {},
   "outputs": [],
   "source": []
  }
 ],
 "metadata": {
  "kernelspec": {
   "display_name": "Python 3 (ipykernel)",
   "language": "python",
   "name": "python3"
  },
  "language_info": {
   "codemirror_mode": {
    "name": "ipython",
    "version": 3
   },
   "file_extension": ".py",
   "mimetype": "text/x-python",
   "name": "python",
   "nbconvert_exporter": "python",
   "pygments_lexer": "ipython3",
   "version": "3.10.6"
  }
 },
 "nbformat": 4,
 "nbformat_minor": 5
}
