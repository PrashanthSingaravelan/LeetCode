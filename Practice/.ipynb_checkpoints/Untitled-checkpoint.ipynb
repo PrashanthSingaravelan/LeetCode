{
 "cells": [
  {
   "cell_type": "code",
   "execution_count": null,
   "id": "9b57c4b4",
   "metadata": {},
   "outputs": [],
   "source": [
    "class Solution:\n",
    "    def maximumWealth(self, accounts: List[List[int]]) -> int:"
   ]
  },
  {
   "cell_type": "code",
   "execution_count": 54,
   "id": "485781bc",
   "metadata": {},
   "outputs": [],
   "source": [
    "list1 = [[1,5],[7,3],[3,5]]"
   ]
  },
  {
   "cell_type": "code",
   "execution_count": 55,
   "id": "7024c8cb",
   "metadata": {},
   "outputs": [
    {
     "data": {
      "text/plain": [
       "10"
      ]
     },
     "execution_count": 55,
     "metadata": {},
     "output_type": "execute_result"
    }
   ],
   "source": [
    "max_list = []\n",
    "for i in list1:\n",
    "    max_list.append(sum(i))\n",
    "max(max_list)"
   ]
  },
  {
   "cell_type": "code",
   "execution_count": 56,
   "id": "3c48b26d",
   "metadata": {},
   "outputs": [],
   "source": [
    "from collections import Counter"
   ]
  },
  {
   "cell_type": "code",
   "execution_count": 65,
   "id": "31e135e2",
   "metadata": {},
   "outputs": [
    {
     "ename": "AttributeError",
     "evalue": "'dict' object has no attribute 'sort'",
     "output_type": "error",
     "traceback": [
      "\u001b[0;31m---------------------------------------------------------------------------\u001b[0m",
      "\u001b[0;31mAttributeError\u001b[0m                            Traceback (most recent call last)",
      "Input \u001b[0;32mIn [65]\u001b[0m, in \u001b[0;36m<cell line: 2>\u001b[0;34m()\u001b[0m\n\u001b[1;32m      1\u001b[0m max_occur \u001b[38;5;241m=\u001b[39m \u001b[38;5;28mdict\u001b[39m(Counter(max_list))\n\u001b[0;32m----> 2\u001b[0m max_occur \u001b[38;5;241m=\u001b[39m \u001b[43mmax_occur\u001b[49m\u001b[38;5;241;43m.\u001b[39;49m\u001b[43msort\u001b[49m()\n",
      "\u001b[0;31mAttributeError\u001b[0m: 'dict' object has no attribute 'sort'"
     ]
    }
   ],
   "source": [
    "max_occur = dict(Counter(max_list))\n",
    "max_occur = max_occur.sort()\n"
   ]
  },
  {
   "cell_type": "code",
   "execution_count": 70,
   "id": "eacbf748",
   "metadata": {},
   "outputs": [
    {
     "data": {
      "text/plain": [
       "[6]"
      ]
     },
     "execution_count": 70,
     "metadata": {},
     "output_type": "execute_result"
    }
   ],
   "source": [
    "maximum_key    = int(next(iter(max_occur)))\n",
    "maximum_value = int(max_occur[maximum_key])\n",
    "\n",
    "ans = [maximum_key] * maximum_value\n",
    "ans"
   ]
  },
  {
   "cell_type": "code",
   "execution_count": 73,
   "id": "5d91e569",
   "metadata": {},
   "outputs": [
    {
     "data": {
      "text/plain": [
       "[6, 10]"
      ]
     },
     "execution_count": 73,
     "metadata": {},
     "output_type": "execute_result"
    }
   ],
   "source": [
    "max_list = []\n",
    "sum1 = 0\n",
    "for i in list1:\n",
    "    row_sum = sum(i)\n",
    "    if (row_sum > sum1):\n",
    "        sum1 = row_sum\n",
    "        max_list.append(sum1)\n",
    "max_list"
   ]
  },
  {
   "cell_type": "code",
   "execution_count": 78,
   "id": "817cc660",
   "metadata": {},
   "outputs": [],
   "source": [
    "accounts = [[1,2,3],[3,2,1]]"
   ]
  },
  {
   "cell_type": "code",
   "execution_count": 79,
   "id": "e71b333a",
   "metadata": {},
   "outputs": [
    {
     "name": "stdout",
     "output_type": "stream",
     "text": [
      "6\n"
     ]
    }
   ],
   "source": [
    "max_list = []\n",
    "for i in accounts:\n",
    "    max_list.append(sum(i))\n",
    "print(max(max_list))"
   ]
  },
  {
   "cell_type": "code",
   "execution_count": 80,
   "id": "a61b82df",
   "metadata": {},
   "outputs": [],
   "source": [
    "list1 = [1,2,3,4,4,3,2,1]\n",
    "n = 4"
   ]
  },
  {
   "cell_type": "code",
   "execution_count": 99,
   "id": "a86102da",
   "metadata": {},
   "outputs": [],
   "source": [
    "first_half = list1[:n]\n",
    "second_half = list1[n:]"
   ]
  },
  {
   "cell_type": "code",
   "execution_count": 102,
   "id": "ec3c3fdd",
   "metadata": {},
   "outputs": [
    {
     "data": {
      "text/plain": [
       "[1, 4, 2, 3, 3, 2, 4, 1]"
      ]
     },
     "execution_count": 102,
     "metadata": {},
     "output_type": "execute_result"
    }
   ],
   "source": [
    "ans = []\n",
    "for i,j in zip(first_half, second_half):\n",
    "    ans.append(i)\n",
    "    ans.append(j)\n",
    "ans"
   ]
  },
  {
   "cell_type": "code",
   "execution_count": 4,
   "id": "b87baab2",
   "metadata": {},
   "outputs": [],
   "source": [
    "nums = [1,2,3,1,1,3]\n",
    "ans = []"
   ]
  },
  {
   "cell_type": "code",
   "execution_count": 5,
   "id": "d004ff18",
   "metadata": {},
   "outputs": [
    {
     "name": "stdout",
     "output_type": "stream",
     "text": [
      "[(0, 3), (0, 4), (2, 5), (3, 4)]\n"
     ]
    }
   ],
   "source": [
    "for i in range(len(nums)):\n",
    "    for j in range(i, len(nums)):\n",
    "        if (nums[i] == nums[j]) and (i<j):\n",
    "            ans.append((i,j))\n",
    "print(ans)"
   ]
  },
  {
   "cell_type": "code",
   "execution_count": 7,
   "id": "1555628d",
   "metadata": {},
   "outputs": [
    {
     "data": {
      "text/plain": [
       "4"
      ]
     },
     "execution_count": 7,
     "metadata": {},
     "output_type": "execute_result"
    }
   ],
   "source": [
    "len(ans)"
   ]
  },
  {
   "cell_type": "code",
   "execution_count": null,
   "id": "b26e2de6",
   "metadata": {},
   "outputs": [],
   "source": []
  }
 ],
 "metadata": {
  "kernelspec": {
   "display_name": "Python 3 (ipykernel)",
   "language": "python",
   "name": "python3"
  },
  "language_info": {
   "codemirror_mode": {
    "name": "ipython",
    "version": 3
   },
   "file_extension": ".py",
   "mimetype": "text/x-python",
   "name": "python",
   "nbconvert_exporter": "python",
   "pygments_lexer": "ipython3",
   "version": "3.9.7"
  }
 },
 "nbformat": 4,
 "nbformat_minor": 5
}
