{
 "cells": [
  {
   "cell_type": "code",
   "execution_count": null,
   "id": "b6fbfd8b",
   "metadata": {},
   "outputs": [],
   "source": [
    "class Solution:\n",
    "    def maximumWealth(self, accounts: List[List[int]]) -> int:"
   ]
  },
  {
   "cell_type": "code",
   "execution_count": 54,
   "id": "c1c1a879",
   "metadata": {},
   "outputs": [],
   "source": [
    "list1 = [[1,5],[7,3],[3,5]]"
   ]
  },
  {
   "cell_type": "code",
   "execution_count": 55,
   "id": "b6ddf518",
   "metadata": {},
   "outputs": [
    {
     "data": {
      "text/plain": [
       "10"
      ]
     },
     "execution_count": 55,
     "metadata": {},
     "output_type": "execute_result"
    }
   ],
   "source": [
    "max_list = []\n",
    "for i in list1:\n",
    "    max_list.append(sum(i))\n",
    "max(max_list)"
   ]
  },
  {
   "cell_type": "code",
   "execution_count": 56,
   "id": "03387849",
   "metadata": {},
   "outputs": [],
   "source": [
    "from collections import Counter"
   ]
  },
  {
   "cell_type": "code",
   "execution_count": 65,
   "id": "53176c05",
   "metadata": {},
   "outputs": [
    {
     "ename": "AttributeError",
     "evalue": "'dict' object has no attribute 'sort'",
     "output_type": "error",
     "traceback": [
      "\u001b[0;31m---------------------------------------------------------------------------\u001b[0m",
      "\u001b[0;31mAttributeError\u001b[0m                            Traceback (most recent call last)",
      "Input \u001b[0;32mIn [65]\u001b[0m, in \u001b[0;36m<cell line: 2>\u001b[0;34m()\u001b[0m\n\u001b[1;32m      1\u001b[0m max_occur \u001b[38;5;241m=\u001b[39m \u001b[38;5;28mdict\u001b[39m(Counter(max_list))\n\u001b[0;32m----> 2\u001b[0m max_occur \u001b[38;5;241m=\u001b[39m \u001b[43mmax_occur\u001b[49m\u001b[38;5;241;43m.\u001b[39;49m\u001b[43msort\u001b[49m()\n",
      "\u001b[0;31mAttributeError\u001b[0m: 'dict' object has no attribute 'sort'"
     ]
    }
   ],
   "source": [
    "max_occur = dict(Counter(max_list))\n",
    "max_occur = max_occur.sort()\n"
   ]
  },
  {
   "cell_type": "code",
   "execution_count": 70,
   "id": "794afb13",
   "metadata": {},
   "outputs": [
    {
     "data": {
      "text/plain": [
       "[6]"
      ]
     },
     "execution_count": 70,
     "metadata": {},
     "output_type": "execute_result"
    }
   ],
   "source": [
    "maximum_key    = int(next(iter(max_occur)))\n",
    "maximum_value = int(max_occur[maximum_key])\n",
    "\n",
    "ans = [maximum_key] * maximum_value\n",
    "ans"
   ]
  },
  {
   "cell_type": "code",
   "execution_count": 73,
   "id": "c7fa3ee0",
   "metadata": {},
   "outputs": [
    {
     "data": {
      "text/plain": [
       "[6, 10]"
      ]
     },
     "execution_count": 73,
     "metadata": {},
     "output_type": "execute_result"
    }
   ],
   "source": [
    "max_list = []\n",
    "sum1 = 0\n",
    "for i in list1:\n",
    "    row_sum = sum(i)\n",
    "    if (row_sum > sum1):\n",
    "        sum1 = row_sum\n",
    "        max_list.append(sum1)\n",
    "max_list"
   ]
  },
  {
   "cell_type": "code",
   "execution_count": 78,
   "id": "ede54425",
   "metadata": {},
   "outputs": [],
   "source": [
    "accounts = [[1,2,3],[3,2,1]]"
   ]
  },
  {
   "cell_type": "code",
   "execution_count": 79,
   "id": "d54bff57",
   "metadata": {},
   "outputs": [
    {
     "name": "stdout",
     "output_type": "stream",
     "text": [
      "6\n"
     ]
    }
   ],
   "source": [
    "max_list = []\n",
    "for i in accounts:\n",
    "    max_list.append(sum(i))\n",
    "print(max(max_list))"
   ]
  },
  {
   "cell_type": "code",
   "execution_count": 80,
   "id": "af0998cd",
   "metadata": {},
   "outputs": [],
   "source": [
    "list1 = [1,2,3,4,4,3,2,1]\n",
    "n = 4"
   ]
  },
  {
   "cell_type": "code",
   "execution_count": 99,
   "id": "28faf526",
   "metadata": {},
   "outputs": [],
   "source": [
    "first_half = list1[:n]\n",
    "second_half = list1[n:]"
   ]
  },
  {
   "cell_type": "code",
   "execution_count": 102,
   "id": "4c6d59a5",
   "metadata": {},
   "outputs": [
    {
     "data": {
      "text/plain": [
       "[1, 4, 2, 3, 3, 2, 4, 1]"
      ]
     },
     "execution_count": 102,
     "metadata": {},
     "output_type": "execute_result"
    }
   ],
   "source": [
    "ans = []\n",
    "for i,j in zip(first_half, second_half):\n",
    "    ans.append(i)\n",
    "    ans.append(j)\n",
    "ans"
   ]
  },
  {
   "cell_type": "code",
   "execution_count": 11,
   "id": "c8b512a9",
   "metadata": {},
   "outputs": [],
   "source": [
    "nums = [1,2,3]\n",
    "ans = []"
   ]
  },
  {
   "cell_type": "code",
   "execution_count": 12,
   "id": "4d260541",
   "metadata": {},
   "outputs": [
    {
     "name": "stdout",
     "output_type": "stream",
     "text": [
      "[]\n"
     ]
    }
   ],
   "source": [
    "for i in range(len(nums)):\n",
    "    for j in range(i, len(nums)):\n",
    "        if (nums[i] == nums[j]) and (i<j):\n",
    "            ans.append((i,j))\n",
    "return (len(ans))"
   ]
  },
  {
   "cell_type": "code",
   "execution_count": 13,
   "id": "07c62d82",
   "metadata": {},
   "outputs": [
    {
     "data": {
      "text/plain": [
       "0"
      ]
     },
     "execution_count": 13,
     "metadata": {},
     "output_type": "execute_result"
    }
   ],
   "source": []
  },
  {
   "cell_type": "code",
   "execution_count": 18,
   "id": "0073ff76",
   "metadata": {},
   "outputs": [],
   "source": [
    "sentences = [\"alice and bob love leetcode\", \"i think so too\", \"this is great thanks very much\"]"
   ]
  },
  {
   "cell_type": "code",
   "execution_count": 16,
   "id": "6f57e3e0",
   "metadata": {},
   "outputs": [],
   "source": [
    "sentences = [\"please wait\", \"continue to fight\", \"continue to win\"]"
   ]
  },
  {
   "cell_type": "code",
   "execution_count": 19,
   "id": "d53a6738",
   "metadata": {},
   "outputs": [
    {
     "name": "stdout",
     "output_type": "stream",
     "text": [
      "[5, 4, 6]\n"
     ]
    }
   ],
   "source": [
    "word_count = []\n",
    "for i in range(len(sentences)):\n",
    "    word_count.append(len(sentences[i].split(' ')))\n",
    "print(word_count)"
   ]
  },
  {
   "cell_type": "code",
   "execution_count": 6,
   "id": "c595feb8",
   "metadata": {},
   "outputs": [
    {
     "data": {
      "text/plain": [
       "5"
      ]
     },
     "execution_count": 6,
     "metadata": {},
     "output_type": "execute_result"
    }
   ],
   "source": [
    "len(sentences[0].split(' '))"
   ]
  },
  {
   "cell_type": "code",
   "execution_count": 20,
   "id": "35662ae7",
   "metadata": {},
   "outputs": [],
   "source": [
    "candies = [4,2,1,1,2]\n",
    "extraCandies = 1"
   ]
  },
  {
   "cell_type": "code",
   "execution_count": 77,
   "id": "4ea35781",
   "metadata": {},
   "outputs": [],
   "source": [
    "candies = [2,3,5,1,3]\n",
    "extraCandies = 3"
   ]
  },
  {
   "cell_type": "code",
   "execution_count": 78,
   "id": "6a5e6f2f",
   "metadata": {},
   "outputs": [],
   "source": [
    "ans = []\n",
    "for index in range(len(candies)):\n",
    "    element = candies[index] + extraCandies\n",
    "    if element >= max(candies): ans.append('true')\n",
    "    else:ans.append(\"false\")"
   ]
  },
  {
   "cell_type": "code",
   "execution_count": 79,
   "id": "d61765d1",
   "metadata": {},
   "outputs": [
    {
     "data": {
      "text/plain": [
       "['true', 'true', 'true', 'false', 'true']"
      ]
     },
     "execution_count": 79,
     "metadata": {},
     "output_type": "execute_result"
    }
   ],
   "source": [
    "ans"
   ]
  },
  {
   "cell_type": "code",
   "execution_count": 32,
   "id": "3efac9dc",
   "metadata": {},
   "outputs": [
    {
     "ename": "NameError",
     "evalue": "name 'true' is not defined",
     "output_type": "error",
     "traceback": [
      "\u001b[0;31m---------------------------------------------------------------------------\u001b[0m",
      "\u001b[0;31mNameError\u001b[0m                                 Traceback (most recent call last)",
      "Cell \u001b[0;32mIn [32], line 1\u001b[0m\n\u001b[0;32m----> 1\u001b[0m output \u001b[38;5;241m=\u001b[39m [\u001b[43mtrue\u001b[49m,false,true]\n",
      "\u001b[0;31mNameError\u001b[0m: name 'true' is not defined"
     ]
    }
   ],
   "source": [
    "output = [true,false,true]"
   ]
  },
  {
   "cell_type": "code",
   "execution_count": 49,
   "id": "c6893bd3",
   "metadata": {},
   "outputs": [],
   "source": [
    "candies = [2,3,5,1,3]"
   ]
  },
  {
   "cell_type": "code",
   "execution_count": 52,
   "id": "f926611c",
   "metadata": {},
   "outputs": [
    {
     "data": {
      "text/plain": [
       "2"
      ]
     },
     "execution_count": 52,
     "metadata": {},
     "output_type": "execute_result"
    }
   ],
   "source": [
    "candies.pop(0)"
   ]
  },
  {
   "cell_type": "code",
   "execution_count": 54,
   "id": "8f195cdd",
   "metadata": {},
   "outputs": [
    {
     "data": {
      "text/plain": [
       "[3, 5, 1, 3]"
      ]
     },
     "execution_count": 54,
     "metadata": {},
     "output_type": "execute_result"
    }
   ],
   "source": [
    "candies"
   ]
  },
  {
   "cell_type": "code",
   "execution_count": null,
   "id": "7747d228",
   "metadata": {},
   "outputs": [],
   "source": []
  }
 ],
 "metadata": {
  "kernelspec": {
   "display_name": "Python 3 (ipykernel)",
   "language": "python",
   "name": "python3"
  },
  "language_info": {
   "codemirror_mode": {
    "name": "ipython",
    "version": 3
   },
   "file_extension": ".py",
   "mimetype": "text/x-python",
   "name": "python",
   "nbconvert_exporter": "python",
   "pygments_lexer": "ipython3",
   "version": "3.10.6"
  }
 },
 "nbformat": 4,
 "nbformat_minor": 5
}
