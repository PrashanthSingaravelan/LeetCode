{
 "cells": [
  {
   "cell_type": "code",
   "execution_count": 6,
   "id": "e10e8165",
   "metadata": {},
   "outputs": [],
   "source": [
    "public class Practice {\n",
    "    public static void main(String[] args) {\n",
    "        String command    = \"G()(al)\";\n",
    "        String[] command1 = command.split(\"\");\n",
    "    }\n",
    "}"
   ]
  },
  {
   "cell_type": "code",
   "execution_count": 7,
   "id": "ff3d155a",
   "metadata": {},
   "outputs": [
    {
     "ename": "CompilationException",
     "evalue": "",
     "output_type": "error",
     "traceback": [
      "\u001b[1m\u001b[30m|   \u001b[1m\u001b[30mSystem.out.print(\u001b[0m\u001b[1m\u001b[30m\u001b[41mcommand\u001b[0m\u001b[1m\u001b[30m);\u001b[0m",
      "\u001b[1m\u001b[31mcannot find symbol\u001b[0m",
      "\u001b[1m\u001b[31m  symbol:   variable command\u001b[0m",
      ""
     ]
    }
   ],
   "source": [
    "System.out.print(command);"
   ]
  },
  {
   "cell_type": "code",
   "execution_count": 8,
   "id": "11dc4eff",
   "metadata": {},
   "outputs": [
    {
     "ename": "CompilationException",
     "evalue": "",
     "output_type": "error",
     "traceback": [
      "\u001b[1m\u001b[30m|   \u001b[1m\u001b[30mSystem.out.print(\u001b[0m\u001b[1m\u001b[30m\u001b[41mcommand1\u001b[0m\u001b[1m\u001b[30m);\u001b[0m",
      "\u001b[1m\u001b[31mcannot find symbol\u001b[0m",
      "\u001b[1m\u001b[31m  symbol:   variable command1\u001b[0m",
      ""
     ]
    }
   ],
   "source": [
    "System.out.print(command1);"
   ]
  },
  {
   "cell_type": "code",
   "execution_count": null,
   "id": "6b65869c",
   "metadata": {},
   "outputs": [],
   "source": []
  }
 ],
 "metadata": {
  "kernelspec": {
   "display_name": "Java",
   "language": "java",
   "name": "java"
  },
  "language_info": {
   "codemirror_mode": "java",
   "file_extension": ".jshell",
   "mimetype": "text/x-java-source",
   "name": "Java",
   "pygments_lexer": "java",
   "version": "19"
  }
 },
 "nbformat": 4,
 "nbformat_minor": 5
}
