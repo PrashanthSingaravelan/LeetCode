{
 "cells": [
  {
   "cell_type": "code",
   "execution_count": 2,
   "id": "4d1c0768",
   "metadata": {},
   "outputs": [],
   "source": [
    "nums   = [1,3,5,6]\n",
    "target = 5"
   ]
  },
  {
   "cell_type": "code",
   "execution_count": 33,
   "id": "a6732f1c",
   "metadata": {},
   "outputs": [],
   "source": [
    "nums = [1,3,5,6]\n",
    "target = 7"
   ]
  },
  {
   "cell_type": "code",
   "execution_count": 34,
   "id": "14d8ac4f",
   "metadata": {},
   "outputs": [],
   "source": [
    "def fun1(nums):\n",
    "    for i in range(len(nums)):\n",
    "        if nums[i] == target:\n",
    "            return i\n",
    "        if nums[i] > target:\n",
    "            return i\n",
    "    else:\n",
    "        return i+1"
   ]
  },
  {
   "cell_type": "code",
   "execution_count": 35,
   "id": "25aeaa36",
   "metadata": {},
   "outputs": [
    {
     "data": {
      "text/plain": [
       "4"
      ]
     },
     "execution_count": 35,
     "metadata": {},
     "output_type": "execute_result"
    }
   ],
   "source": [
    "fun1(nums)"
   ]
  },
  {
   "cell_type": "code",
   "execution_count": null,
   "id": "534f285a",
   "metadata": {},
   "outputs": [],
   "source": []
  }
 ],
 "metadata": {
  "kernelspec": {
   "display_name": "Python 3 (ipykernel)",
   "language": "python",
   "name": "python3"
  },
  "language_info": {
   "codemirror_mode": {
    "name": "ipython",
    "version": 3
   },
   "file_extension": ".py",
   "mimetype": "text/x-python",
   "name": "python",
   "nbconvert_exporter": "python",
   "pygments_lexer": "ipython3",
   "version": "3.10.6"
  }
 },
 "nbformat": 4,
 "nbformat_minor": 5
}
