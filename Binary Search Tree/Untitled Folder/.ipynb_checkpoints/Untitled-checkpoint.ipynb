{
 "cells": [
  {
   "cell_type": "code",
   "execution_count": 1,
   "id": "e210cfdf",
   "metadata": {},
   "outputs": [],
   "source": [
    "import sys"
   ]
  },
  {
   "cell_type": "code",
   "execution_count": 2,
   "id": "bab16685",
   "metadata": {},
   "outputs": [],
   "source": [
    "class Node:\n",
    "    def __init__(self, data):\n",
    "        self.value   = data\n",
    "        self.left  = None\n",
    "        self.right = None"
   ]
  },
  {
   "cell_type": "code",
   "execution_count": 30,
   "id": "36d93dd3",
   "metadata": {},
   "outputs": [],
   "source": [
    "class BST:\n",
    "    def __init__(self):\n",
    "        self.root = None\n",
    "        self.list1 = []\n",
    "        \n",
    "    def _insert(self, data, current_node):\n",
    "\n",
    "        ## going to add this node in left\n",
    "        if data < current_node.value:  \n",
    "    ## before adding, check if any-other left node is there\n",
    "            if current_node.left is None: ## if No other left nodes are present, simply add it\n",
    "                current_node.left = Node(data)\n",
    "            else: ## if any-other left nodes are present, go still left\n",
    "                self._insert(data, current_node.left)\n",
    "                \n",
    "    ## going to add this node in right\n",
    "        elif data > current_node.value:  \n",
    "    ## before adding, check if any-other right node is there\n",
    "            if current_node.right is None: ## if No other right nodes are present, simply add it\n",
    "                current_node.right = Node(data)\n",
    "            else: ## if any-other right nodes are present, go still right\n",
    "                self._insert(data, current_node.right)\n",
    "        \n",
    "        else:\n",
    "            print(\"Value-{} already present in the tree\".format(data))\n",
    "    \n",
    "    def insert(self, data):\n",
    "        if self.root is None: ## if a Node is not present, \n",
    "            self.root = Node(data)\n",
    "        else:\n",
    "            self._insert(data, self.root) ## insert all other nodes\n",
    "    \n",
    "    def minimum_distance(self, elements):\n",
    "        mini = sys.maxsize\n",
    "        for i in range(len(elements)):\n",
    "            for j in range(i+1, len(elements)):\n",
    "                diff = abs(elements[i] - elements[j])\n",
    "                if mini > diff:\n",
    "                    mini = diff\n",
    "        return mini\n",
    "    \n",
    "    def preorder(self, start):\n",
    "        if start: ## root, left, right\n",
    "            self.list1.append(start.value)\n",
    "            self.preorder(start.left)\n",
    "            self.preorder(start.right)\n",
    "            \n",
    "    def minDiffInBST(self, start):\n",
    "        self.preorder(start)\n",
    "        return self.minimum_distance(self.list1)         "
   ]
  },
  {
   "cell_type": "code",
   "execution_count": 31,
   "id": "119d310a",
   "metadata": {},
   "outputs": [],
   "source": [
    "tree = BST()\n",
    "tree.insert(90)\n",
    "tree.insert(69)\n",
    "tree.insert(49)\n",
    "tree.insert(89)\n",
    "tree.insert(52)"
   ]
  },
  {
   "cell_type": "code",
   "execution_count": 32,
   "id": "289c8d8f",
   "metadata": {},
   "outputs": [
    {
     "data": {
      "text/plain": [
       "1"
      ]
     },
     "execution_count": 32,
     "metadata": {},
     "output_type": "execute_result"
    }
   ],
   "source": [
    "elements = tree.minDiffInBST(tree.root)\n",
    "elements"
   ]
  },
  {
   "cell_type": "code",
   "execution_count": 6,
   "id": "c2b4f267",
   "metadata": {},
   "outputs": [],
   "source": [
    "#elements = [90, 69, 49, 52, 89]"
   ]
  },
  {
   "cell_type": "code",
   "execution_count": 1,
   "id": "5a702755",
   "metadata": {},
   "outputs": [],
   "source": [
    "class Node(object):\n",
    "    def __init__(self, value):\n",
    "        self.value = value\n",
    "        self.left  = None\n",
    "        self.right = None "
   ]
  },
  {
   "cell_type": "code",
   "execution_count": 10,
   "id": "1924227d",
   "metadata": {},
   "outputs": [],
   "source": [
    "class BinaryTree(object):\n",
    "    def __init__(self, root):\n",
    "        self.temp_len = 0\n",
    "        self.main_len = 0\n",
    "        self.root = Node(root)  ## Initial tree will have only the element, left=None and right=None\n",
    "        \n",
    "## traversal_element -> contains all the elements traversed\n",
    "    def preorder_print(self, start): \n",
    "        if start:\n",
    "            self.temp_len+=1\n",
    "            print(self.temp_len)\n",
    "            self.preorder_print(start.left)\n",
    "            self.preorder_print(start.right)"
   ]
  },
  {
   "cell_type": "code",
   "execution_count": 11,
   "id": "a65bbcc4",
   "metadata": {},
   "outputs": [
    {
     "name": "stdout",
     "output_type": "stream",
     "text": [
      "1\n",
      "2\n",
      "3\n",
      "4\n",
      "5\n"
     ]
    }
   ],
   "source": [
    "# Set up tree\n",
    "tree = BinaryTree(3) ## root-node creation\n",
    "tree.root.left       = Node(9)\n",
    "tree.root.right      = Node(20)\n",
    "tree.root.left.left  = Node(15)\n",
    "tree.root.left.right = Node(7)\n",
    "\n",
    "tree.preorder_print(tree.root)"
   ]
  },
  {
   "cell_type": "code",
   "execution_count": null,
   "id": "396e5417",
   "metadata": {},
   "outputs": [],
   "source": []
  }
 ],
 "metadata": {
  "kernelspec": {
   "display_name": "Python 3 (ipykernel)",
   "language": "python",
   "name": "python3"
  },
  "language_info": {
   "codemirror_mode": {
    "name": "ipython",
    "version": 3
   },
   "file_extension": ".py",
   "mimetype": "text/x-python",
   "name": "python",
   "nbconvert_exporter": "python",
   "pygments_lexer": "ipython3",
   "version": "3.10.6"
  }
 },
 "nbformat": 4,
 "nbformat_minor": 5
}
