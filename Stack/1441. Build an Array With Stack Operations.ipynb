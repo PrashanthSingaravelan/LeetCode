{
 "cells": [
  {
   "cell_type": "code",
   "execution_count": 39,
   "id": "80c226bf",
   "metadata": {},
   "outputs": [],
   "source": [
    "target = [1,3]\n",
    "n = 3\n",
    "result = []"
   ]
  },
  {
   "cell_type": "code",
   "execution_count": 40,
   "id": "a4db792a",
   "metadata": {},
   "outputs": [
    {
     "name": "stdout",
     "output_type": "stream",
     "text": [
      "1\n",
      "3\n"
     ]
    }
   ],
   "source": [
    "index = 0\n",
    "for i in range(1, n+1):\n",
    "    if index < len(target):\n",
    "        if i == target[index]:\n",
    "            print(target[index])\n",
    "            result.append(\"push\")\n",
    "            index+=1\n",
    "        else:\n",
    "            result.append(\"push\")\n",
    "            result.append(\"pop\")"
   ]
  },
  {
   "cell_type": "markdown",
   "id": "bc1bc913",
   "metadata": {},
   "source": [
    "## Final Code"
   ]
  },
  {
   "cell_type": "code",
   "execution_count": 41,
   "id": "20eece07",
   "metadata": {},
   "outputs": [
    {
     "data": {
      "text/plain": [
       "['push', 'push', 'pop', 'push']"
      ]
     },
     "execution_count": 41,
     "metadata": {},
     "output_type": "execute_result"
    }
   ],
   "source": [
    "class Solution:\n",
    "    def buildArray(self, target: List[int], n: int) -> List[str]:\n",
    "        result = []\n",
    "        index = 0\n",
    "        for i in range(1, n+1):\n",
    "            if index < len(target):\n",
    "                if i == target[index]:\n",
    "                    print(target[index])\n",
    "                    result.append(\"Push\")\n",
    "                    index+=1\n",
    "                else:\n",
    "                    result.append(\"Push\")\n",
    "                    result.append(\"Pop\")\n",
    "        return result"
   ]
  }
 ],
 "metadata": {
  "kernelspec": {
   "display_name": "Python 3 (ipykernel)",
   "language": "python",
   "name": "python3"
  },
  "language_info": {
   "codemirror_mode": {
    "name": "ipython",
    "version": 3
   },
   "file_extension": ".py",
   "mimetype": "text/x-python",
   "name": "python",
   "nbconvert_exporter": "python",
   "pygments_lexer": "ipython3",
   "version": "3.10.6"
  }
 },
 "nbformat": 4,
 "nbformat_minor": 5
}
