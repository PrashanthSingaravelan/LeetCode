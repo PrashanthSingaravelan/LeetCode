{
 "cells": [
  {
   "cell_type": "code",
   "execution_count": null,
   "id": "fb883811",
   "metadata": {},
   "outputs": [],
   "source": [
    "s = \"(()())(())\""
   ]
  },
  {
   "cell_type": "code",
   "execution_count": 68,
   "id": "4412d730",
   "metadata": {},
   "outputs": [],
   "source": [
    "s = \"(()())(())(()(()))\""
   ]
  },
  {
   "cell_type": "code",
   "execution_count": 69,
   "id": "0b20e7da",
   "metadata": {},
   "outputs": [],
   "source": [
    "ans = \"\"\n",
    "for i in range(len(s)):\n",
    "    if s[i] == \"(\":\n",
    "        if s[i+1] == \")\":\n",
    "            ans = ans + \"()\""
   ]
  },
  {
   "cell_type": "code",
   "execution_count": null,
   "id": "eca145cf",
   "metadata": {},
   "outputs": [],
   "source": [
    "s = \"(()())(())(()(()))\""
   ]
  },
  {
   "cell_type": "code",
   "execution_count": 125,
   "id": "411c904f",
   "metadata": {},
   "outputs": [],
   "source": [
    "def missing_char(str, n):\n",
    "    n = abs(n)\n",
    "    front = str[:n]   # up to but not including n\n",
    "    back = str[n+1:]  # n+1 through end of string\n",
    "    return front + back"
   ]
  },
  {
   "cell_type": "code",
   "execution_count": 162,
   "id": "3630c048",
   "metadata": {},
   "outputs": [],
   "source": [
    "s = \"(()())(())(()(()))\"\n",
    "list1 = []\n",
    "final_ans = []\n",
    "\n",
    "for i in range(len(s)):\n",
    "    if s[i] == '(':    \n",
    "        if len(list1) == 0:\n",
    "            start_index = i\n",
    "            final_ans.append(start_index)\n",
    "        list1.append('(')\n",
    "        \n",
    "    if s[i] == ')':\n",
    "        if len(list1) == 1:\n",
    "            end_index = i\n",
    "            final_ans.append(end_index)\n",
    "        list1.pop()"
   ]
  },
  {
   "cell_type": "code",
   "execution_count": 163,
   "id": "926d45e2",
   "metadata": {},
   "outputs": [
    {
     "data": {
      "text/plain": [
       "[0, 5, 6, 9, 10, 17]"
      ]
     },
     "execution_count": 163,
     "metadata": {},
     "output_type": "execute_result"
    }
   ],
   "source": [
    "final_ans"
   ]
  },
  {
   "cell_type": "code",
   "execution_count": 164,
   "id": "9a9265e3",
   "metadata": {},
   "outputs": [
    {
     "data": {
      "text/plain": [
       "[5, 6, 9, 10, 17]"
      ]
     },
     "execution_count": 164,
     "metadata": {},
     "output_type": "execute_result"
    }
   ],
   "source": [
    "s = missing_char(s, final_ans[0])\n",
    "cnt = 1\n",
    "final_ans.remove(final_ans[0])\n",
    "\n",
    "for i in final_ans:\n",
    "    print(i-cnt)\n",
    "    s = missing_char(s, i-cnt)\n",
    "    cnt+=1"
   ]
  },
  {
   "cell_type": "code",
   "execution_count": 165,
   "id": "5f410604",
   "metadata": {},
   "outputs": [
    {
     "name": "stdout",
     "output_type": "stream",
     "text": [
      "4\n",
      "4\n",
      "6\n",
      "6\n",
      "12\n"
     ]
    }
   ],
   "source": []
  },
  {
   "cell_type": "code",
   "execution_count": 166,
   "id": "76f1c329",
   "metadata": {},
   "outputs": [
    {
     "data": {
      "text/plain": [
       "'()()()()(())'"
      ]
     },
     "execution_count": 166,
     "metadata": {},
     "output_type": "execute_result"
    }
   ],
   "source": [
    "s"
   ]
  },
  {
   "cell_type": "code",
   "execution_count": 141,
   "id": "940b5760",
   "metadata": {},
   "outputs": [
    {
     "data": {
      "text/plain": [
       "'(()()()(()))'"
      ]
     },
     "execution_count": 141,
     "metadata": {},
     "output_type": "execute_result"
    }
   ],
   "source": [
    "list1.remove()"
   ]
  },
  {
   "cell_type": "code",
   "execution_count": null,
   "id": "d0cf714f",
   "metadata": {},
   "outputs": [],
   "source": []
  }
 ],
 "metadata": {
  "kernelspec": {
   "display_name": "Python 3 (ipykernel)",
   "language": "python",
   "name": "python3"
  },
  "language_info": {
   "codemirror_mode": {
    "name": "ipython",
    "version": 3
   },
   "file_extension": ".py",
   "mimetype": "text/x-python",
   "name": "python",
   "nbconvert_exporter": "python",
   "pygments_lexer": "ipython3",
   "version": "3.10.6"
  }
 },
 "nbformat": 4,
 "nbformat_minor": 5
}
